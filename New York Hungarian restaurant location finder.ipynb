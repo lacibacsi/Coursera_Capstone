{
    "cells": [
        {
            "cell_type": "markdown",
            "metadata": {
                "collapsed": true
            },
            "source": "# The Battle of Neighbourhoods "
        },
        {
            "cell_type": "markdown",
            "metadata": {},
            "source": "## Introduction and context\nIn this (hypothetical) problem a friend of mine has quit his Wall Street job after having worked for a bank for 10+ years. Wanting a change from corporate culture and having a bit of spare money to invest, but unable to leave the City he\u2019s looking into opening a Hungarian restaurant in New York. While most of his friends think this is at least risky if not borderline madness, New York is probably the only and best place to open a place with a less known and somewhat less health-conscious cuisine. \n\nNew York has more than 8.5 million people, while the greater metropolitan area\u2019s population is more than 23 million, with neighborhoods home to an extremely vast majority of places from eateries through hole in the wall places up to 2-3 michelin star fine dining restaurants. According to the New York City Department of Health and statista (https://www.statista.com/statistics/259776/number-of-people-who-went-to-restaurants-in-new-york-by-type/)  there were more than 26\u2019000 restaurants in the City in 2017, this gives a glimpse of hope for having yet another obscure place to make ends meet. \n\nThe ask was to analyze where it may make sense to open such a restaurant. New York is very diverse with no very obvious concentration of cuisines (apart from Chinatown and some Flushing Meadows districts), so it requires further analysis to see if there is a trend in concentration of small cuisines or maybe even Easter European block in places. \n\n### Business problem\nThere are a few ways to approach this problem, I\u2019ll take 3 here and based on the later data analysis it may be possible to pick one (or may not). The approaches are:\n\n#### Chinatown approach\nNew York\u2019s Chinatown is one the largest of its kind with a massive number of prospering restaurants. Obviously not only residents and people of Chinese origin visit these, but is famous among visitors, tourists and in general as well. This approach assumes that if there are areas with concentrated Hungarian and in a broader sense Eastern European restaurants another one can still fit in as people do visit these parts to eat a particular dish. As Hungarian is a small portion of the city's population with a lesser known cuisine it does seem to make sense to extend the radius with similar cuisines as well. (admittedly with a subjective list)\n\n#### Go against the current\nThis is the direct opposite - seeing if there are places with no or very limited number of similar restaurants. In other cities this may be a plain bad approach as purely residential areas, suburbs or other industrial districts would not be  a good fit, but NYC, especially Manhattan is so packed with restaurants that this may not be an issue there. However, if such area is found, it does make sense to see how many / how concentrated the place is.\n\n#### Go with the flow\nThis approach will simply look at the areas with the highest concentration of restaurants (assuming it also is proportional to their variety) and will recommend to set up a place where there are already a lot, as people do go there to eat and is a well-established neighbourhood from this point of view. \n\nMore specifically during the exercise the following questions will be answered:\nWhat are the particular areas with high concentration of Hungarian restaurants?\nIn a more generic sense, what are the areas with high concentration of Eastern European (Hungarian, Czech, Slovakian, Polish, Romanian) cuisines?\nWhich areas do not have Eastern European restaurants?\nWhat are the areas with the highest concentration of restaurants?\n\n## Description of the data and how it\u2019ll be used\nI will essentially be using the same data sets from the previous week\u2019s exercises, as follows:\n\n \n### New York neighbourhood data, latitude, longitude information\nSource: https://cocl.us/new_york_dataset\nUsage: mapping restaurant data including address to borough and neighbourhood for classification \n\n### Hungarian and Eastern European restaurants in New York City\nSource: Foursquare API\nUsage: getting the list of Hungarian and Eastern European restaurants in NYC for each neighbourhood\n\n### GeoSpacial data\nSource: https://data.cityofnewyork.us/City-Government/Borough-\nBoundaries/tqmj-j8zm\nUsage: using for neighbourhood boundaries for visualization\n\n## Methodology\nFor this particular example the methodology is quite straightforward and analyzing the data is not overly complex either. The steps to achieve the desired answers and to draw some conclusions (if possible) are the following:\nGather and clean / scrape New York neighbourhood data\nRead data from https://cocl.us/new_york_dataset\nRead and map geo data (latitude and longitude) to each Neighborhood and borough\nRead the list of Hungarian and Eastern European restaurants from the Foursquare API mainly focusing on Manhattan\nDo some exploratory data analysis to see if the scope of the analysis could be or should be changed (i.e.) remove Neighborhoods are   \nRun a simple density analysis on neighbourhoods to see which ones have the highest concentration of restaurants\nUse the K-Means method to cluster neighbourhoods and get answers for the distribution of Eastern European restaurants. \n"
        },
        {
            "cell_type": "code",
            "execution_count": null,
            "metadata": {},
            "outputs": [],
            "source": ""
        }
    ],
    "metadata": {
        "kernelspec": {
            "display_name": "Python 3.6",
            "language": "python",
            "name": "python3"
        },
        "language_info": {
            "codemirror_mode": {
                "name": "ipython",
                "version": 3
            },
            "file_extension": ".py",
            "mimetype": "text/x-python",
            "name": "python",
            "nbconvert_exporter": "python",
            "pygments_lexer": "ipython3",
            "version": "3.6.9"
        }
    },
    "nbformat": 4,
    "nbformat_minor": 1
}